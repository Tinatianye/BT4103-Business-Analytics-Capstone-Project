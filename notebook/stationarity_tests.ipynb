{
 "cells": [
  {
   "cell_type": "code",
   "execution_count": 82,
   "metadata": {},
   "outputs": [],
   "source": [
    "# Import libraries\n",
    "import numpy as np \n",
    "import pandas as pd \n",
    "import seaborn as sns\n",
    "\n",
    "from statsmodels.tsa.stattools import adfuller, kpss, grangercausalitytests\n",
    "\n",
    "import warnings\n",
    "warnings.filterwarnings(\"ignore\")"
   ]
  },
  {
   "cell_type": "code",
   "execution_count": 83,
   "metadata": {},
   "outputs": [],
   "source": [
    "# Read csv\n",
    "file_path = '../data/final/wo_na.csv'\n",
    "df = pd.read_csv(file_path)"
   ]
  },
  {
   "cell_type": "markdown",
   "metadata": {},
   "source": [
    "## Lag Plots to visually check for stationarity"
   ]
  },
  {
   "cell_type": "code",
   "execution_count": 84,
   "metadata": {},
   "outputs": [],
   "source": [
    "# import matplotlib.pyplot as plt\n",
    "# from pandas.plotting import lag_plot\n",
    "\n",
    "# df_cpy = df.copy() #Month_Dt\n",
    "\n",
    "# # List of columns to plot (excluding unwanted columns)\n",
    "# # Columns to run ADF test on\n",
    "# factors = [col for col in df.columns if col not in ['Unnamed: 0', 'Month_Dt', 'Month', 'Year']]\n",
    "# # df with only the factors\n",
    "# df_factors = df[factors]\n",
    "# cols = [col for col in df_factors]\n",
    "\n",
    "# # Number of columns per row\n",
    "# n_cols = 5\n",
    "\n",
    "# # Number of rows needed\n",
    "# n_rows = -(-len(cols) // n_cols)  # This is a math trick to do \"ceiling division\"\n",
    "\n",
    "# # Create the figure and axes\n",
    "# fig, axes = plt.subplots(n_rows, n_cols, figsize=(20, 4*n_rows))\n",
    "\n",
    "# # Flatten axes to easily iterate even if it's a 2D grid\n",
    "# axes = axes.flatten()\n",
    "\n",
    "# # Loop through columns and plot each one\n",
    "# for i, col in enumerate(cols):\n",
    "#     lag_plot(df_cpy[col], lag=1, ax=axes[i])\n",
    "#     axes[i].set_title(f'{col} (Lag 1)')\n",
    "\n",
    "# # Hide any unused subplots if the number of columns is not divisible by 5\n",
    "# for j in range(i+1, len(axes)):\n",
    "#     fig.delaxes(axes[j])\n",
    "\n",
    "# # Adjust layout\n",
    "# plt.tight_layout()\n",
    "# plt.show()\n"
   ]
  },
  {
   "cell_type": "code",
   "execution_count": 85,
   "metadata": {},
   "outputs": [],
   "source": [
    "# factors = [col for col in df.columns if col not in ['Unnamed: 0', 'Month_Dt', 'Month', 'Year']]\n",
    "# df_factors = df[factors]\n",
    "\n",
    "# # Number of columns per row\n",
    "# n_cols = 5\n",
    "\n",
    "# # Number of rows needed\n",
    "# n_rows = -(-len(factors) // n_cols)  # Ceiling division\n",
    "\n",
    "# # Create the figure and axes\n",
    "# fig, axes = plt.subplots(n_rows, n_cols, figsize=(20, 4 * n_rows))\n",
    "\n",
    "# # Flatten axes (in case it's a grid)\n",
    "# axes = axes.flatten()\n",
    "\n",
    "# # Rolling window size — you can change this (12 is common for monthly data)\n",
    "# window = 12\n",
    "\n",
    "# # Loop through each column and plot rolling stats\n",
    "# for i, col in enumerate(factors):\n",
    "#     axes[i].plot(df[col], label='Original', color='tab:blue')\n",
    "#     axes[i].plot(df[col].rolling(window=window).mean(), label='Rolling Mean', linestyle='--', color='tab:orange')\n",
    "#     axes[i].plot(df[col].rolling(window=window).std(), label='Rolling Std Dev', linestyle='--', color='tab:green')\n",
    "#     axes[i].set_title(col)\n",
    "#     axes[i].legend()\n",
    "\n",
    "# # Hide any unused axes if the number of factors is not divisible by 5\n",
    "# for j in range(i + 1, len(axes)):\n",
    "#     fig.delaxes(axes[j])\n",
    "\n",
    "# # Layout adjustments\n",
    "# plt.tight_layout()\n",
    "# plt.show()\n"
   ]
  },
  {
   "cell_type": "code",
   "execution_count": 86,
   "metadata": {},
   "outputs": [],
   "source": [
    "# import pandas as pd\n",
    "# import matplotlib.pyplot as plt\n",
    "# from pandas.plotting import lag_plot\n",
    "\n",
    "# # Example data (HRC price series)\n",
    "# df = pd.read_csv('your_data.csv')  # Load your price data\n",
    "# df['Month'] = pd.to_datetime(df['Month'])  # Ensure time column is datetime\n",
    "# df.set_index('Month', inplace=True)\n",
    "\n",
    "# # Lag plot for 1-month lag\n",
    "# plt.figure(figsize=(6,6))\n",
    "# lag_plot(df['HRC Price'], lag=1)\n",
    "# plt.title('Lag Plot - 1 month')\n",
    "# plt.show()\n",
    "\n",
    "# # You can loop through multiple lags if needed\n",
    "# for lag in [1, 3, 6, 12]:\n",
    "#     plt.figure(figsize=(6,6))\n",
    "#     lag_plot(df['HRC Price'], lag=lag)\n",
    "#     plt.title(f'Lag Plot - {lag} months')\n",
    "#     plt.show()\n"
   ]
  },
  {
   "cell_type": "markdown",
   "metadata": {},
   "source": [
    "## ADF Test for Stationarity"
   ]
  },
  {
   "cell_type": "code",
   "execution_count": 87,
   "metadata": {},
   "outputs": [],
   "source": [
    "def adf_test(data_df):\n",
    "    test_stat, p_val = [], []\n",
    "    cv_1pct, cv_5pct, cv_10pct = [], [], []\n",
    "    for c in data_df.columns: \n",
    "        adf_res = adfuller(data_df[c].dropna())\n",
    "        test_stat.append(adf_res[0])\n",
    "        p_val.append(adf_res[1])\n",
    "        cv_1pct.append(adf_res[4]['1%'])\n",
    "        cv_5pct.append(adf_res[4]['5%'])\n",
    "        cv_10pct.append(adf_res[4]['10%'])\n",
    "    adf_res_df = pd.DataFrame({'Test statistic': test_stat, \n",
    "                               'p-value': p_val, \n",
    "                               'Critical value - 1%': cv_1pct,\n",
    "                               'Critical value - 5%': cv_5pct,\n",
    "                               'Critical value - 10%': cv_10pct}, \n",
    "                             index=data_df.columns).T\n",
    "    adf_res_df = adf_res_df.round(4)\n",
    "    return adf_res_df\n",
    "\n",
    "def adf_results(df):\n",
    "    adf_df = adf_test(df)\n",
    "    stationary_cols = adf_df.columns[adf_df.loc['p-value'] < 0.05]\n",
    "    non_stationary_cols = adf_df.columns[adf_df.loc['p-value'] >= 0.05]\n",
    "\n",
    "    return stationary_cols, non_stationary_cols"
   ]
  },
  {
   "cell_type": "code",
   "execution_count": 88,
   "metadata": {},
   "outputs": [
    {
     "data": {
      "text/html": [
       "<style type=\"text/css\">\n",
       "</style>\n",
       "<table id=\"T_eb423\">\n",
       "  <thead>\n",
       "    <tr>\n",
       "      <th class=\"blank level0\" >&nbsp;</th>\n",
       "      <th id=\"T_eb423_level0_col0\" class=\"col_heading level0 col0\" ></th>\n",
       "      <th id=\"T_eb423_level0_col1\" class=\"col_heading level0 col1\" >Stationary Columns</th>\n",
       "      <th id=\"T_eb423_level0_col2\" class=\"col_heading level0 col2\" >Non-Stationary Columns</th>\n",
       "    </tr>\n",
       "  </thead>\n",
       "  <tbody>\n",
       "    <tr>\n",
       "      <th id=\"T_eb423_level0_row0\" class=\"row_heading level0 row0\" >0</th>\n",
       "      <td id=\"T_eb423_row0_col0\" class=\"data row0 col0\" >Name</td>\n",
       "      <td id=\"T_eb423_row0_col1\" class=\"data row0 col1\" >Index(['HRC \\n(FOB, $/t)', 'RM Cost \\n($/t)', 'HRC - RM \\nSpread ($/t)',\n",
       "       'Imports \\n(Mnt)', 'Export as % of Production',\n",
       "       'Monthly Imports of semis & finished steel (Mt.)',\n",
       "       'Monthly Export of semis & finished steel (Mt.)',\n",
       "       'Monthly Iron ore Production (Mt.)', 'Automobile Production (y-o-y)',\n",
       "       'Household Fridges (y-o-y)', 'Air Conditioner (y-o-y)',\n",
       "       'Manufacturing PMI for steel'],\n",
       "      dtype='object')</td>\n",
       "      <td id=\"T_eb423_row0_col2\" class=\"data row0 col2\" >Index(['Domestic Scrap (DDP Jiangsu incl. VAT $/t)', 'CS Production (Mnt)',\n",
       "       'Exports \\n(Mnt)', 'Cummulative FAI growth (%)',\n",
       "       'YTD Iron ore Imports (Mt.)', 'YTD Iron ore Production (Mt.)',\n",
       "       'Fixed asset investment in real estate development in urban areas (y-o-y )Growth',\n",
       "       'Civil Metal-Vessels/Steel Ships (y-o-y)'],\n",
       "      dtype='object')</td>\n",
       "    </tr>\n",
       "    <tr>\n",
       "      <th id=\"T_eb423_level0_row1\" class=\"row_heading level0 row1\" >1</th>\n",
       "      <td id=\"T_eb423_row1_col0\" class=\"data row1 col0\" >Number of columns</td>\n",
       "      <td id=\"T_eb423_row1_col1\" class=\"data row1 col1\" >12</td>\n",
       "      <td id=\"T_eb423_row1_col2\" class=\"data row1 col2\" >8</td>\n",
       "    </tr>\n",
       "  </tbody>\n",
       "</table>\n"
      ],
      "text/plain": [
       "<pandas.io.formats.style.Styler at 0x171a23f50>"
      ]
     },
     "execution_count": 88,
     "metadata": {},
     "output_type": "execute_result"
    }
   ],
   "source": [
    "# Columns to run ADF test on\n",
    "factors = [col for col in df.columns if col not in ['Unnamed: 0', 'Month_Dt', 'Month', 'Year']]\n",
    "# df with only the factors\n",
    "df_factors = df[factors]\n",
    "\n",
    "# Conduct ADF test\n",
    "stationary_adf, non_stationary_adf = adf_results(df_factors)\n",
    "\n",
    "results_df_adf = pd.DataFrame({\n",
    "    '': ['Name', 'Number of columns'],\n",
    "    'Stationary Columns': [stationary_adf, len(stationary_adf)],\n",
    "    'Non-Stationary Columns': [non_stationary_adf, len(non_stationary_adf)]\n",
    "})\n",
    "results_df_adf.style"
   ]
  },
  {
   "cell_type": "markdown",
   "metadata": {},
   "source": [
    "From the ADF test, there are 12 stationary columns:\n",
    "1. HRC (FOB, $/t)\n",
    "2. RM Cost ($/t)\n",
    "3. HRC - RM Spread ($/t)\n",
    "4. Imports (Mnt)\n",
    "5. Export as % of Production\n",
    "6. Monthly Imports of semis & finished steel (Mt.)\n",
    "7. Monthly Export of semis & finished steel (Mt.)\n",
    "8. Monthly Iron ore Production (Mt.)\n",
    "9. Automobile Production (y-o-y)\n",
    "10. Household Fridges (y-o-y)\n",
    "11. Air Conditioner (y-o-y)\n",
    "12. Manufacturing PMI for steel\n",
    "\n",
    "There are 8 non-stationary columns:\n",
    "1. Domestic Scrap (DDP Jiangsu incl. VAT $/t)\n",
    "2. CS Production (Mnt)\n",
    "3. Exports (Mnt)\n",
    "4. Cummulative FAI growth (%)\n",
    "5. YTD Iron ore Imports (Mt.)\n",
    "6. YTD Iron ore Production (Mt.)\n",
    "7. Fixed asset investment in real estate development in urban areas (y-o-y )Growth\n",
    "8. Civil Metal-Vessels/Steel Ships (y-o-y)"
   ]
  },
  {
   "cell_type": "markdown",
   "metadata": {},
   "source": [
    "## Check again with KPSS Test"
   ]
  },
  {
   "cell_type": "code",
   "execution_count": 89,
   "metadata": {},
   "outputs": [],
   "source": [
    "def kpss_test(data_df):\n",
    "    test_stat, p_val = [], []\n",
    "    cv_1pct, cv_2p5pct, cv_5pct, cv_10pct = [], [], [], []\n",
    "    for c in data_df.columns: \n",
    "        kpss_res = kpss(data_df[c].dropna(), regression='ct')\n",
    "        test_stat.append(kpss_res[0])\n",
    "        p_val.append(kpss_res[1])\n",
    "        cv_1pct.append(kpss_res[3]['1%'])\n",
    "        cv_2p5pct.append(kpss_res[3]['2.5%'])\n",
    "        cv_5pct.append(kpss_res[3]['5%'])\n",
    "        cv_10pct.append(kpss_res[3]['10%'])\n",
    "    kpss_res_df = pd.DataFrame({'Test statistic': test_stat, \n",
    "                               'p-value': p_val, \n",
    "                               'Critical value - 1%': cv_1pct,\n",
    "                               'Critical value - 2.5%': cv_2p5pct,\n",
    "                               'Critical value - 5%': cv_5pct,\n",
    "                               'Critical value - 10%': cv_10pct}, \n",
    "                             index=data_df.columns).T\n",
    "    kpss_res_df = kpss_res_df.round(4)\n",
    "    return kpss_res_df\n",
    "\n",
    "def kpss_results(df):\n",
    "    kpss_df = kpss_test(df)\n",
    "    stationary_cols = kpss_df.columns[kpss_df.loc['p-value'] >= 0.05]\n",
    "    non_stationary_cols = kpss_df.columns[kpss_df.loc['p-value'] < 0.05]\n",
    "\n",
    "    return stationary_cols, non_stationary_cols"
   ]
  },
  {
   "cell_type": "code",
   "execution_count": 90,
   "metadata": {},
   "outputs": [
    {
     "data": {
      "text/html": [
       "<style type=\"text/css\">\n",
       "</style>\n",
       "<table id=\"T_c1d37\">\n",
       "  <thead>\n",
       "    <tr>\n",
       "      <th class=\"blank level0\" >&nbsp;</th>\n",
       "      <th id=\"T_c1d37_level0_col0\" class=\"col_heading level0 col0\" ></th>\n",
       "      <th id=\"T_c1d37_level0_col1\" class=\"col_heading level0 col1\" >Stationary Columns</th>\n",
       "      <th id=\"T_c1d37_level0_col2\" class=\"col_heading level0 col2\" >Non-Stationary Columns</th>\n",
       "    </tr>\n",
       "  </thead>\n",
       "  <tbody>\n",
       "    <tr>\n",
       "      <th id=\"T_c1d37_level0_row0\" class=\"row_heading level0 row0\" >0</th>\n",
       "      <td id=\"T_c1d37_row0_col0\" class=\"data row0 col0\" >Name</td>\n",
       "      <td id=\"T_c1d37_row0_col1\" class=\"data row0 col1\" >Index(['HRC - RM \\nSpread ($/t)', 'Export as % of Production',\n",
       "       'Monthly Imports of semis & finished steel (Mt.)',\n",
       "       'Monthly Export of semis & finished steel (Mt.)',\n",
       "       'YTD Iron ore Imports (Mt.)',\n",
       "       'Fixed asset investment in real estate development in urban areas (y-o-y )Growth',\n",
       "       'Automobile Production (y-o-y)', 'Household Fridges (y-o-y)',\n",
       "       'Air Conditioner (y-o-y)', 'Manufacturing PMI for steel'],\n",
       "      dtype='object')</td>\n",
       "      <td id=\"T_c1d37_row0_col2\" class=\"data row0 col2\" >Index(['HRC \\n(FOB, $/t)', 'Domestic Scrap (DDP Jiangsu incl. VAT $/t)',\n",
       "       'RM Cost \\n($/t)', 'CS Production (Mnt)', 'Exports \\n(Mnt)',\n",
       "       'Imports \\n(Mnt)', 'Cummulative FAI growth (%)',\n",
       "       'YTD Iron ore Production (Mt.)', 'Monthly Iron ore Production (Mt.)',\n",
       "       'Civil Metal-Vessels/Steel Ships (y-o-y)'],\n",
       "      dtype='object')</td>\n",
       "    </tr>\n",
       "    <tr>\n",
       "      <th id=\"T_c1d37_level0_row1\" class=\"row_heading level0 row1\" >1</th>\n",
       "      <td id=\"T_c1d37_row1_col0\" class=\"data row1 col0\" >Number of columns</td>\n",
       "      <td id=\"T_c1d37_row1_col1\" class=\"data row1 col1\" >10</td>\n",
       "      <td id=\"T_c1d37_row1_col2\" class=\"data row1 col2\" >10</td>\n",
       "    </tr>\n",
       "  </tbody>\n",
       "</table>\n"
      ],
      "text/plain": [
       "<pandas.io.formats.style.Styler at 0x1717bc810>"
      ]
     },
     "execution_count": 90,
     "metadata": {},
     "output_type": "execute_result"
    }
   ],
   "source": [
    "# Conduct KPSS test\n",
    "stationary_kpss, non_stationary_kpss = kpss_results(df_factors)\n",
    "\n",
    "results_df_kpss = pd.DataFrame({\n",
    "    '': ['Name', 'Number of columns'],\n",
    "    'Stationary Columns': [stationary_kpss, len(stationary_kpss)],\n",
    "    'Non-Stationary Columns': [non_stationary_kpss, len(non_stationary_kpss)]\n",
    "})\n",
    "results_df_kpss.style"
   ]
  },
  {
   "cell_type": "markdown",
   "metadata": {},
   "source": [
    "From the KPSS test, there are 10 stationary columns:\n",
    "1. HRC - RM Spread ($/t)\n",
    "2. Export as % of Production\n",
    "3. Monthly Imports of semis & finished steel (Mt.)\n",
    "4. Monthly Export of semis & finished steel (Mt.)\n",
    "5. YTD Iron ore Imports (Mt.)\n",
    "6. Fixed asset investment in real estate development in urban areas (y-o-y )Growth\n",
    "7. Automobile Production (y-o-y)\n",
    "8. Household Fridges (y-o-y)\n",
    "9. Air Conditioner (y-o-y)\n",
    "10. Manufacturing PMI for steel\n",
    "\n",
    "There are 10 non-stationary columns:\n",
    "1. HRC (FOB, $/t)\n",
    "2. Domestic Scrap (DDP Jiangsu incl. VAT $/t)\n",
    "3. RM Cost ($/t)\n",
    "4. CS Production (Mnt)\n",
    "5. Exports (Mnt)\n",
    "6. Imports (Mnt)\n",
    "7. Cummulative FAI growth (%)\n",
    "8. YTD Iron ore Production (Mt.)\n",
    "9. Monthly Iron ore Production (Mt.)\n",
    "10. Civil Metal-Vessels/Steel Ships (y-o-y)"
   ]
  },
  {
   "cell_type": "markdown",
   "metadata": {},
   "source": [
    "## Apply differencing to non-stationary columns"
   ]
  },
  {
   "cell_type": "code",
   "execution_count": 91,
   "metadata": {},
   "outputs": [],
   "source": [
    "def apply_differencing(df, cols):\n",
    "    for col in cols:\n",
    "        df[col] = df[col] - df[col].shift(1)\n",
    "    return df"
   ]
  },
  {
   "cell_type": "code",
   "execution_count": 118,
   "metadata": {},
   "outputs": [],
   "source": [
    "def check_stationarity(non_stationary_adf, non_stationary_kpss, df, count=0):\n",
    "    # Combine non-stationary columns from both tests\n",
    "    non_stationary_combined = set(non_stationary_adf).union(set(non_stationary_kpss))\n",
    "    \n",
    "    if len(non_stationary_combined) == 0:\n",
    "        print(f\"All columns stationary after {count} round(s) of differencing.\")\n",
    "        return count, df\n",
    "\n",
    "    # Apply differencing for non-stationary columns\n",
    "    df_differenced = apply_differencing(df, non_stationary_combined)\n",
    "\n",
    "    # Conduct ADF test again\n",
    "    stationary_adf2, non_stationary_adf2 = adf_results(df_differenced)\n",
    "    # Conduct KPSS test again\n",
    "    stationary_kpss2, non_stationary_kpss2 = kpss_results(df_differenced)\n",
    "\n",
    "    # Update number of times differencing was done\n",
    "    count += 1\n",
    "\n",
    "    print(f\"Round {count}:\")\n",
    "    print(f\"Num of Stationary columns (ADF): {len(stationary_adf2)}, Num of Stationary columns (KPSS): {len(stationary_kpss2)}\")\n",
    "    print(f\"Non-stationary columns after differencing: {set(non_stationary_adf2).union(non_stationary_kpss2)}\\n\")\n",
    "\n",
    "    return check_stationarity(non_stationary_adf2, non_stationary_kpss2, df_differenced, count)\n"
   ]
  },
  {
   "cell_type": "code",
   "execution_count": 122,
   "metadata": {},
   "outputs": [
    {
     "name": "stdout",
     "output_type": "stream",
     "text": [
      "Round 1:\n",
      "Num of Stationary columns (ADF): 20, Num of Stationary columns (KPSS): 18\n",
      "Non-stationary columns after differencing: {'YTD Iron ore Production (Mt.)', 'Monthly Iron ore Production (Mt.)'}\n",
      "\n",
      "Round 2:\n",
      "Num of Stationary columns (ADF): 20, Num of Stationary columns (KPSS): 19\n",
      "Non-stationary columns after differencing: {'YTD Iron ore Production (Mt.)'}\n",
      "\n",
      "Round 3:\n",
      "Num of Stationary columns (ADF): 20, Num of Stationary columns (KPSS): 19\n",
      "Non-stationary columns after differencing: {'YTD Iron ore Production (Mt.)'}\n",
      "\n",
      "Round 4:\n",
      "Num of Stationary columns (ADF): 20, Num of Stationary columns (KPSS): 20\n",
      "Non-stationary columns after differencing: set()\n",
      "\n",
      "All columns stationary after 4 round(s) of differencing.\n",
      "(216, 20)\n"
     ]
    }
   ],
   "source": [
    "num_rounds, differenced_df = check_stationarity(non_stationary_adf, non_stationary_kpss, df[factors])\n",
    "print(differenced_df.shape)"
   ]
  },
  {
   "cell_type": "code",
   "execution_count": 126,
   "metadata": {},
   "outputs": [],
   "source": [
    "# Add the excluded columns back in?? factors = [col for col in df.columns if col not in ['Unnamed: 0', 'Month_Dt', 'Month', 'Year']]"
   ]
  }
 ],
 "metadata": {
  "kernelspec": {
   "display_name": "Python 3",
   "language": "python",
   "name": "python3"
  },
  "language_info": {
   "codemirror_mode": {
    "name": "ipython",
    "version": 3
   },
   "file_extension": ".py",
   "mimetype": "text/x-python",
   "name": "python",
   "nbconvert_exporter": "python",
   "pygments_lexer": "ipython3",
   "version": "3.11.5"
  }
 },
 "nbformat": 4,
 "nbformat_minor": 2
}
